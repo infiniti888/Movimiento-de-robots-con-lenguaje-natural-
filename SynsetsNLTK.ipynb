{
 "cells": [
  {
   "cell_type": "code",
   "execution_count": 5,
   "id": "366d5b02-7ca2-486e-8fb5-865f2ebee5ce",
   "metadata": {},
   "outputs": [],
   "source": [
    "from nltk.corpus import wordnet"
   ]
  },
  {
   "cell_type": "markdown",
   "id": "fe7dca41-e8d8-48d4-a50c-02ee5cf6f302",
   "metadata": {},
   "source": [
    "Obtener los significados (synsets) de \"forward\"\n"
   ]
  },
  {
   "cell_type": "code",
   "execution_count": 6,
   "id": "855e8f7c-e5c0-4dba-8e25-86096de4697b",
   "metadata": {},
   "outputs": [],
   "source": [
    "forward_synsets = wordnet.synsets(\"forward\")"
   ]
  },
  {
   "cell_type": "markdown",
   "id": "9adc2561-34b0-497b-b959-065539a811f4",
   "metadata": {},
   "source": [
    "Mostrar los sinónimos de \"forward\" en cada significado"
   ]
  },
  {
   "cell_type": "code",
   "execution_count": 8,
   "id": "e9c08cde-e6ff-440e-9343-667c61314113",
   "metadata": {},
   "outputs": [
    {
     "name": "stdout",
     "output_type": "stream",
     "text": [
      "{Synset('forward.n.01'): ['forward'], Synset('forward.n.02'): ['forward'], Synset('forward.v.01'): ['forward', 'send_on'], Synset('forward.a.01'): ['forward'], Synset('forward.a.02'): ['forward'], Synset('forward.a.03'): ['forward'], Synset('advancing.s.01'): ['advancing', 'forward', 'forward-moving'], Synset('forward.r.01'): ['forward', 'forwards', 'frontward', 'frontwards', 'forrad', 'forrard'], Synset('forth.r.02'): ['forth', 'forward', 'onward'], Synset('ahead.r.02'): ['ahead', 'forward'], Synset('ahead.r.03'): ['ahead', 'onward', 'onwards', 'forward', 'forwards', 'forrader'], Synset('fore.r.01'): ['fore', 'forward']}\n"
     ]
    }
   ],
   "source": [
    "forward_synonyms_by_meaning = {synset: [lemma.name() for lemma in synset.lemmas()] for synset in forward_synsets}\n",
    "print(forward_synonyms_by_meaning)"
   ]
  },
  {
   "cell_type": "markdown",
   "id": "0bc19b7f-2257-420b-a7db-99ddc58841ae",
   "metadata": {},
   "source": [
    "Imprimir los significados con su definición y ejemplos"
   ]
  },
  {
   "cell_type": "code",
   "execution_count": 10,
   "id": "1786185c-13b8-4871-9a0a-15a3de3c0143",
   "metadata": {},
   "outputs": [
    {
     "name": "stdout",
     "output_type": "stream",
     "text": [
      "Synset: Synset('forward.n.01')\n",
      "Definition: the person who plays the position of forward in certain games, such as basketball, soccer, or hockey\n",
      "Examples: []\n",
      "--------------------------------------------------\n",
      "Synset: Synset('forward.n.02')\n",
      "Definition: a position on a basketball, soccer, or hockey team\n",
      "Examples: []\n",
      "--------------------------------------------------\n",
      "Synset: Synset('forward.v.01')\n",
      "Definition: send or ship onward from an intermediate post or station in transit\n",
      "Examples: ['forward my mail']\n",
      "--------------------------------------------------\n",
      "Synset: Synset('forward.a.01')\n",
      "Definition: at or near or directed toward the front\n",
      "Examples: ['the forward section of the aircraft', 'a forward plunge down the stairs', 'forward motion']\n",
      "--------------------------------------------------\n",
      "Synset: Synset('forward.a.02')\n",
      "Definition: used of temperament or behavior; lacking restraint or modesty\n",
      "Examples: ['a forward child badly in need of discipline']\n",
      "--------------------------------------------------\n",
      "Synset: Synset('forward.a.03')\n",
      "Definition: of the transmission gear causing forward movement in a motor vehicle\n",
      "Examples: ['in a forward gear']\n",
      "--------------------------------------------------\n",
      "Synset: Synset('advancing.s.01')\n",
      "Definition: moving forward\n",
      "Examples: []\n",
      "--------------------------------------------------\n",
      "Synset: Synset('forward.r.01')\n",
      "Definition: at or to or toward the front; ; ; ; (`forrad' and `forrard' are dialectal variations)\n",
      "Examples: ['he faced forward', 'step forward', 'she practiced sewing backward as well as frontward on her new sewing machine']\n",
      "--------------------------------------------------\n",
      "Synset: Synset('forth.r.02')\n",
      "Definition: forward in time or order or degree\n",
      "Examples: ['from that time forth', 'from the sixth century onward']\n",
      "--------------------------------------------------\n",
      "Synset: Synset('ahead.r.02')\n",
      "Definition: toward the future; forward in time\n",
      "Examples: ['I like to look ahead in imagination to what the future may bring', 'I look forward to seeing you']\n",
      "--------------------------------------------------\n",
      "Synset: Synset('ahead.r.03')\n",
      "Definition: in a forward direction\n",
      "Examples: ['go ahead', 'the train moved ahead slowly', 'the boat lurched ahead', 'moved onward into the forest', 'they went slowly forward in the mud']\n",
      "--------------------------------------------------\n",
      "Synset: Synset('fore.r.01')\n",
      "Definition: near or toward the bow of a ship or cockpit of a plane\n",
      "Examples: ['the captain went fore (or forward) to check the instruments']\n",
      "--------------------------------------------------\n"
     ]
    }
   ],
   "source": [
    "for synset in forward_synsets:\n",
    "    print(f\"Synset: {synset}\")\n",
    "    print(f\"Definition: {synset.definition()}\")\n",
    "    print(f\"Examples: {synset.examples()}\")\n",
    "    print(\"-\" * 50)"
   ]
  },
  {
   "cell_type": "markdown",
   "id": "a723a9c0-a830-4ea5-a7b7-e94914ed6f4c",
   "metadata": {},
   "source": [
    "Podemos ver que el synset aunque el synset que técnicamente se refiere a direcciones es Synset: Synset('advancing.s.01') Definition: moving forward.\n",
    "No tiene sinónimos, pero no es el único synset Synset: Synset('ahead.r.03') Definition: in a forward direction también seria válido.\n",
    "Synset('ahead.r.03'): ['ahead', 'onward', 'onwards', 'forward', 'forwards', 'forrader'] estas son las expresiones sinónimas de este significado de \"forward\"\n",
    "En el código le podemos indicar que nos añada a la lista de sinónimos estas expresiones.\n",
    "Podemos repetir este proceso para las otras direcciones (back, left y right) aunque ya avanzo que solo back tiene sinónimos.\n"
   ]
  },
  {
   "cell_type": "code",
   "execution_count": null,
   "id": "8b343509-40f0-4fe9-9b9b-acba2ad86d96",
   "metadata": {},
   "outputs": [],
   "source": []
  }
 ],
 "metadata": {
  "kernelspec": {
   "display_name": "Python 3 (ipykernel)",
   "language": "python",
   "name": "python3"
  },
  "language_info": {
   "codemirror_mode": {
    "name": "ipython",
    "version": 3
   },
   "file_extension": ".py",
   "mimetype": "text/x-python",
   "name": "python",
   "nbconvert_exporter": "python",
   "pygments_lexer": "ipython3",
   "version": "3.12.7"
  }
 },
 "nbformat": 4,
 "nbformat_minor": 5
}
